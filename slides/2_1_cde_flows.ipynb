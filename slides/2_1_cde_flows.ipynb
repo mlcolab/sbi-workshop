{
 "cells": [
  {
   "cell_type": "markdown",
   "metadata": {
    "slideshow": {
     "slide_type": "slide"
    }
   },
   "source": [
    "# Introduction to normalizing flows\n",
    "\n",
    "The corresponding presentation is here: https://docs.google.com/presentation/d/1_mPs2Voo_4qV0HYCn7XnZ0uVmeNpWphNZDtfHWSb0ug/edit?usp=sharing"
   ]
  },
  {
   "cell_type": "code",
   "execution_count": 1,
   "metadata": {
    "slideshow": {
     "slide_type": "skip"
    }
   },
   "outputs": [],
   "source": [
    "import os\n",
    "os.environ['KMP_DUPLICATE_LIB_OK']='True'"
   ]
  },
  {
   "cell_type": "code",
   "execution_count": 2,
   "metadata": {
    "slideshow": {
     "slide_type": "skip"
    }
   },
   "outputs": [],
   "source": [
    "import math\n",
    "\n",
    "import matplotlib.pyplot as plt\n",
    "import torch\n",
    "import torch.nn as nn\n",
    "import torch.nn.functional as F\n",
    "import torch.optim as optim\n",
    "from math import pi, log\n",
    "from torch.utils import data\n",
    "import numpy as np\n",
    "from torch import tensor\n",
    "from torch.distributions import Normal\n",
    "import matplotlib as mpl"
   ]
  },
  {
   "cell_type": "code",
   "execution_count": 3,
   "metadata": {
    "slideshow": {
     "slide_type": "skip"
    }
   },
   "outputs": [],
   "source": [
    "_ = torch.manual_seed(0)"
   ]
  },
  {
   "cell_type": "markdown",
   "metadata": {
    "slideshow": {
     "slide_type": "slide"
    }
   },
   "source": [
    "# Let's move to a simple example"
   ]
  },
  {
   "cell_type": "code",
   "execution_count": 5,
   "metadata": {
    "slideshow": {
     "slide_type": "fragment"
    }
   },
   "outputs": [],
   "source": [
    "mean = 1.0\n",
    "std = 0.4\n",
    "\n",
    "normal_dist = Normal(mean, std)  # We do not usually know this...\n",
    "samples = normal_dist.sample((50,))  # ...but all we have are these samples."
   ]
  },
  {
   "cell_type": "code",
   "execution_count": 7,
   "metadata": {
    "slideshow": {
     "slide_type": "fragment"
    }
   },
   "outputs": [
    {
     "data": {
      "image/png": "[encoded data removed]",
      "text/plain": [
       "<Figure size 600x200 with 1 Axes>"
      ]
     },
     "metadata": {},
     "output_type": "display_data"
    }
   ],
   "source": [
    "with mpl.rc_context(fname=\".matplotlibrc\"):\n",
    "    fig = plt.figure(figsize=(6, 2))\n",
    "    plt.plot(samples, np.zeros_like(samples), 'bx', alpha=0.5, markerfacecolor='none', markersize=6)\n",
    "    _ = plt.xlim([-4, 4]); _ = plt.ylim([-0.12, 1.2])"
   ]
  },
  {
   "cell_type": "markdown",
   "metadata": {
    "slideshow": {
     "slide_type": "fragment"
    }
   },
   "source": [
    "We can also find the minimum of the negative logarithm (becaus log is monotonic):\n",
    "\n",
    "$\\mu', \\sigma' =  \\text{argmin}_{\\mu, \\sigma} - \\log \\prod_i \\mathcal{N}(\\theta_i; \\mu, \\sigma) = \\text{argmin}_{\\mu, \\sigma} - \\sum_i \\log \\mathcal{N}(\\theta_i; \\mu, \\sigma)$"
   ]
  },
  {
   "cell_type": "code",
   "execution_count": 8,
   "metadata": {},
   "outputs": [],
   "source": [
    "from torch import tensor, as_tensor"
   ]
  },
  {
   "cell_type": "code",
   "execution_count": 19,
   "metadata": {
    "slideshow": {
     "slide_type": "slide"
    }
   },
   "outputs": [],
   "source": [
    "dataset = data.TensorDataset(samples)\n",
    "train_loader = data.DataLoader(samples, batch_size=10)\n",
    "\n",
    "learned_a = torch.nn.Parameter(torch.zeros(1))\n",
    "learned_b = torch.nn.Parameter(torch.ones(1))\n",
    "base_dist = Normal(tensor(0.0), tensor(1.0))\n",
    "\n",
    "opt = optim.Adam([learned_a, learned_b], lr=0.005)\n",
    "\n",
    "def u_to_x(u, a, b):\n",
    "    return a + u * b\n",
    "\n",
    "def x_to_u(x, a, b):\n",
    "    return (x - a) / b\n",
    "\n",
    "for e in range(500):\n",
    "    for sample_batch in train_loader:\n",
    "        opt.zero_grad()\n",
    "        \n",
    "        u = x_to_u(sample_batch, learned_a, learned_b)\n",
    "        p_u = torch.exp(base_dist.log_prob(u))\n",
    "        derivative = learned_b\n",
    "        p_x = p_u / derivative\n",
    "        \n",
    "        loss = -torch.log(p_x).sum()\n",
    "        loss.backward() \n",
    "        opt.step()"
   ]
  },
  {
   "cell_type": "code",
   "execution_count": 22,
   "metadata": {
    "slideshow": {
     "slide_type": "slide"
    }
   },
   "outputs": [],
   "source": [
    "u_samples = base_dist.sample((10,))\n",
    "x_samples = u_to_x(u_samples, learned_a, learned_b)"
   ]
  },
  {
   "cell_type": "code",
   "execution_count": 25,
   "metadata": {
    "slideshow": {
     "slide_type": "fragment"
    }
   },
   "outputs": [
    {
     "name": "stdout",
     "output_type": "stream",
     "text": [
      "tensor(0.9375, grad_fn=<MeanBackward0>)\n",
      "tensor(0.5022, grad_fn=<StdBackward>)\n"
     ]
    }
   ],
   "source": [
    "print(torch.mean(x_samples))\n",
    "print(torch.std(x_samples))"
   ]
  },
  {
   "cell_type": "code",
   "execution_count": 33,
   "metadata": {
    "slideshow": {
     "slide_type": "slide"
    }
   },
   "outputs": [],
   "source": [
    "eval_x = torch.linspace(-4, 4, 100)\n",
    "\n",
    "u = x_to_u(eval_x, learned_a, learned_b)\n",
    "p_u = torch.exp(base_dist.log_prob(u))\n",
    "derivative = learned_b\n",
    "p_x = p_u / derivative\n",
    "\n",
    "learned_probs = p_x"
   ]
  },
  {
   "cell_type": "code",
   "execution_count": 37,
   "metadata": {
    "slideshow": {
     "slide_type": "fragment"
    }
   },
   "outputs": [
    {
     "data": {
      "image/png": "[encoded data removed]",
      "text/plain": [
       "<Figure size 600x200 with 1 Axes>"
      ]
     },
     "metadata": {},
     "output_type": "display_data"
    }
   ],
   "source": [
    "with mpl.rc_context(fname=\".matplotlibrc\"):\n",
    "    fig = plt.figure(figsize=(6, 2))\n",
    "    plt.plot(samples, np.zeros_like(samples), 'bx', alpha=0.5, markerfacecolor='none', markersize=6)\n",
    "    plt.plot(eval_x.numpy(), learned_probs.detach().numpy())\n",
    "    plt.legend([\"Samples\", \"Learned\"], loc=\"upper left\")\n",
    "    _ = plt.xlim([-4, 4]); _ = plt.ylim([-0.12, 1.2])"
   ]
  }
 ],
 "metadata": {
  "celltoolbar": "Slideshow",
  "kernelspec": {
   "display_name": "workshop",
   "language": "python",
   "name": "workshop"
  },
  "language_info": {
   "codemirror_mode": {
    "name": "ipython",
    "version": 3
   },
   "file_extension": ".py",
   "mimetype": "text/x-python",
   "name": "python",
   "nbconvert_exporter": "python",
   "pygments_lexer": "ipython3",
   "version": "3.8.10"
  }
 },
 "nbformat": 4,
 "nbformat_minor": 4
}
